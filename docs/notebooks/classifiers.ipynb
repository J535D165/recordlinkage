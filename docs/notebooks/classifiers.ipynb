{
 "cells": [
  {
   "cell_type": "markdown",
   "metadata": {},
   "source": [
    "# Record pair classification\n",
    "\n",
    "In the context of record linkage, classification refers to the process of dividing record pairs into matches and non-matches (distinct pairs). There are dozens of classification algorithms for record linkage. Roughly speaking, classification algorithms fall into two groups: \n",
    "\n",
    "- **supervised learning algorithms** - These algorithms make use of trainings data. If you do have trainings data, then you can use supervised learning algorithms. Most supervised learning algorithms offer good accuracy and reliability. Examples of supervised learning algorithms in the *Python Record Linkage Toolkit* are *Logistic Regression*, *Naive Bayes* and *Support Vector Machines*. \n",
    "- **unsupervised learning algorithms** - These algorithms do not need training data. The *Python Record Linkage Toolkit* supports *K-means clustering* and an *Expectation/Conditional Maximisation* classifier. "
   ]
  },
  {
   "cell_type": "code",
   "execution_count": 1,
   "metadata": {
    "collapsed": true,
    "hide_input": false,
    "nbsphinx": "hidden"
   },
   "outputs": [],
   "source": [
    "%precision 5\n",
    "\n",
    "from __future__ import print_function\n",
    "\n",
    "import pandas as pd\n",
    "pd.set_option('precision',5)\n",
    "pd.options.display.max_rows = 10\n"
   ]
  },
  {
   "cell_type": "markdown",
   "metadata": {},
   "source": [
    "**First things first**\n",
    "\n",
    "The examples below make use of the [Krebs register](http://recordlinkage.readthedocs.org/en/latest/reference.html#recordlinkage.datasets.krebsregister_cmp_data) (German for cancer registry) dataset. The Krebs register dataset contains comparison vectors of a large set of record pairs. For each record pair, it is known if the records represent the same person (match) or not (non-match). This was done with a massive clerical review. First, import the recordlinkage module and load the Krebs register data. The dataset contains 5749132 compared record pairs and has the following variables: first name, last name, sex, birthday, birth month, birth year and zip code. The Krebs register contains `len(krebs_match) == 20931` matching record pairs. "
   ]
  },
  {
   "cell_type": "code",
   "execution_count": 2,
   "metadata": {},
   "outputs": [
    {
     "data": {
      "text/html": [
       "<div>\n",
       "<table border=\"1\" class=\"dataframe\">\n",
       "  <thead>\n",
       "    <tr style=\"text-align: right;\">\n",
       "      <th></th>\n",
       "      <th></th>\n",
       "      <th>cmp_firstname1</th>\n",
       "      <th>cmp_firstname2</th>\n",
       "      <th>cmp_lastname1</th>\n",
       "      <th>cmp_lastname2</th>\n",
       "      <th>cmp_sex</th>\n",
       "      <th>cmp_birthday</th>\n",
       "      <th>cmp_birthmonth</th>\n",
       "      <th>cmp_birthyear</th>\n",
       "      <th>cmp_zipcode</th>\n",
       "    </tr>\n",
       "    <tr>\n",
       "      <th>id1</th>\n",
       "      <th>id2</th>\n",
       "      <th></th>\n",
       "      <th></th>\n",
       "      <th></th>\n",
       "      <th></th>\n",
       "      <th></th>\n",
       "      <th></th>\n",
       "      <th></th>\n",
       "      <th></th>\n",
       "      <th></th>\n",
       "    </tr>\n",
       "  </thead>\n",
       "  <tbody>\n",
       "    <tr>\n",
       "      <th>22161</th>\n",
       "      <th>38467</th>\n",
       "      <td>1.00000</td>\n",
       "      <td>0.0</td>\n",
       "      <td>0.14286</td>\n",
       "      <td>0.0</td>\n",
       "      <td>1</td>\n",
       "      <td>0.0</td>\n",
       "      <td>1.0</td>\n",
       "      <td>0.0</td>\n",
       "      <td>0.0</td>\n",
       "    </tr>\n",
       "    <tr>\n",
       "      <th>38713</th>\n",
       "      <th>75352</th>\n",
       "      <td>0.00000</td>\n",
       "      <td>0.0</td>\n",
       "      <td>0.57143</td>\n",
       "      <td>0.0</td>\n",
       "      <td>1</td>\n",
       "      <td>0.0</td>\n",
       "      <td>0.0</td>\n",
       "      <td>0.0</td>\n",
       "      <td>0.0</td>\n",
       "    </tr>\n",
       "    <tr>\n",
       "      <th>13699</th>\n",
       "      <th>32825</th>\n",
       "      <td>0.16667</td>\n",
       "      <td>0.0</td>\n",
       "      <td>0.00000</td>\n",
       "      <td>0.0</td>\n",
       "      <td>0</td>\n",
       "      <td>1.0</td>\n",
       "      <td>1.0</td>\n",
       "      <td>1.0</td>\n",
       "      <td>0.0</td>\n",
       "    </tr>\n",
       "    <tr>\n",
       "      <th>22709</th>\n",
       "      <th>37682</th>\n",
       "      <td>0.28571</td>\n",
       "      <td>0.0</td>\n",
       "      <td>1.00000</td>\n",
       "      <td>0.0</td>\n",
       "      <td>1</td>\n",
       "      <td>0.0</td>\n",
       "      <td>0.0</td>\n",
       "      <td>0.0</td>\n",
       "      <td>0.0</td>\n",
       "    </tr>\n",
       "    <tr>\n",
       "      <th>2342</th>\n",
       "      <th>69060</th>\n",
       "      <td>0.25000</td>\n",
       "      <td>0.0</td>\n",
       "      <td>0.12500</td>\n",
       "      <td>0.0</td>\n",
       "      <td>1</td>\n",
       "      <td>1.0</td>\n",
       "      <td>1.0</td>\n",
       "      <td>1.0</td>\n",
       "      <td>0.0</td>\n",
       "    </tr>\n",
       "    <tr>\n",
       "      <th>...</th>\n",
       "      <th>...</th>\n",
       "      <td>...</td>\n",
       "      <td>...</td>\n",
       "      <td>...</td>\n",
       "      <td>...</td>\n",
       "      <td>...</td>\n",
       "      <td>...</td>\n",
       "      <td>...</td>\n",
       "      <td>...</td>\n",
       "      <td>...</td>\n",
       "    </tr>\n",
       "    <tr>\n",
       "      <th>52124</th>\n",
       "      <th>53629</th>\n",
       "      <td>1.00000</td>\n",
       "      <td>0.0</td>\n",
       "      <td>0.28571</td>\n",
       "      <td>0.0</td>\n",
       "      <td>1</td>\n",
       "      <td>0.0</td>\n",
       "      <td>0.0</td>\n",
       "      <td>1.0</td>\n",
       "      <td>0.0</td>\n",
       "    </tr>\n",
       "    <tr>\n",
       "      <th>30007</th>\n",
       "      <th>76846</th>\n",
       "      <td>0.75000</td>\n",
       "      <td>0.0</td>\n",
       "      <td>0.00000</td>\n",
       "      <td>0.0</td>\n",
       "      <td>1</td>\n",
       "      <td>1.0</td>\n",
       "      <td>0.0</td>\n",
       "      <td>0.0</td>\n",
       "      <td>0.0</td>\n",
       "    </tr>\n",
       "    <tr>\n",
       "      <th>50546</th>\n",
       "      <th>59461</th>\n",
       "      <td>0.75000</td>\n",
       "      <td>0.0</td>\n",
       "      <td>0.00000</td>\n",
       "      <td>0.0</td>\n",
       "      <td>1</td>\n",
       "      <td>0.0</td>\n",
       "      <td>1.0</td>\n",
       "      <td>0.0</td>\n",
       "      <td>0.0</td>\n",
       "    </tr>\n",
       "    <tr>\n",
       "      <th>43175</th>\n",
       "      <th>62151</th>\n",
       "      <td>1.00000</td>\n",
       "      <td>0.0</td>\n",
       "      <td>0.11111</td>\n",
       "      <td>0.0</td>\n",
       "      <td>1</td>\n",
       "      <td>0.0</td>\n",
       "      <td>1.0</td>\n",
       "      <td>0.0</td>\n",
       "      <td>0.0</td>\n",
       "    </tr>\n",
       "    <tr>\n",
       "      <th>11651</th>\n",
       "      <th>57925</th>\n",
       "      <td>1.00000</td>\n",
       "      <td>0.0</td>\n",
       "      <td>0.00000</td>\n",
       "      <td>0.0</td>\n",
       "      <td>1</td>\n",
       "      <td>0.0</td>\n",
       "      <td>0.0</td>\n",
       "      <td>1.0</td>\n",
       "      <td>0.0</td>\n",
       "    </tr>\n",
       "  </tbody>\n",
       "</table>\n",
       "<p>5749132 rows × 9 columns</p>\n",
       "</div>"
      ],
      "text/plain": [
       "             cmp_firstname1  cmp_firstname2  cmp_lastname1  cmp_lastname2  \\\n",
       "id1   id2                                                                   \n",
       "22161 38467         1.00000             0.0        0.14286            0.0   \n",
       "38713 75352         0.00000             0.0        0.57143            0.0   \n",
       "13699 32825         0.16667             0.0        0.00000            0.0   \n",
       "22709 37682         0.28571             0.0        1.00000            0.0   \n",
       "2342  69060         0.25000             0.0        0.12500            0.0   \n",
       "...                     ...             ...            ...            ...   \n",
       "52124 53629         1.00000             0.0        0.28571            0.0   \n",
       "30007 76846         0.75000             0.0        0.00000            0.0   \n",
       "50546 59461         0.75000             0.0        0.00000            0.0   \n",
       "43175 62151         1.00000             0.0        0.11111            0.0   \n",
       "11651 57925         1.00000             0.0        0.00000            0.0   \n",
       "\n",
       "             cmp_sex  cmp_birthday  cmp_birthmonth  cmp_birthyear  cmp_zipcode  \n",
       "id1   id2                                                                       \n",
       "22161 38467        1           0.0             1.0            0.0          0.0  \n",
       "38713 75352        1           0.0             0.0            0.0          0.0  \n",
       "13699 32825        0           1.0             1.0            1.0          0.0  \n",
       "22709 37682        1           0.0             0.0            0.0          0.0  \n",
       "2342  69060        1           1.0             1.0            1.0          0.0  \n",
       "...              ...           ...             ...            ...          ...  \n",
       "52124 53629        1           0.0             0.0            1.0          0.0  \n",
       "30007 76846        1           1.0             0.0            0.0          0.0  \n",
       "50546 59461        1           0.0             1.0            0.0          0.0  \n",
       "43175 62151        1           0.0             1.0            0.0          0.0  \n",
       "11651 57925        1           0.0             0.0            1.0          0.0  \n",
       "\n",
       "[5749132 rows x 9 columns]"
      ]
     },
     "execution_count": 2,
     "metadata": {},
     "output_type": "execute_result"
    }
   ],
   "source": [
    "import recordlinkage as rl\n",
    "from recordlinkage.datasets import load_krebsregister\n",
    "\n",
    "krebs_data, krebs_match = load_krebsregister(missing_values=0)\n",
    "krebs_data"
   ]
  },
  {
   "cell_type": "markdown",
   "metadata": {},
   "source": [
    "Most classifiers can not handle comparison vectors with missing values. To prevent issues with the classification algorithms, we convert the missing values into disagreeing comparisons (using argument missing_values=0). This approach for handling missing values is widely used in record linkage applications."
   ]
  },
  {
   "cell_type": "code",
   "execution_count": 3,
   "metadata": {},
   "outputs": [
    {
     "data": {
      "text/html": [
       "<div>\n",
       "<table border=\"1\" class=\"dataframe\">\n",
       "  <thead>\n",
       "    <tr style=\"text-align: right;\">\n",
       "      <th></th>\n",
       "      <th>count</th>\n",
       "      <th>mean</th>\n",
       "      <th>std</th>\n",
       "      <th>min</th>\n",
       "      <th>25%</th>\n",
       "      <th>50%</th>\n",
       "      <th>75%</th>\n",
       "      <th>max</th>\n",
       "    </tr>\n",
       "  </thead>\n",
       "  <tbody>\n",
       "    <tr>\n",
       "      <th>cmp_firstname1</th>\n",
       "      <td>5749132.0</td>\n",
       "      <td>0.71278</td>\n",
       "      <td>0.38884</td>\n",
       "      <td>0.0</td>\n",
       "      <td>0.28571</td>\n",
       "      <td>1.00000</td>\n",
       "      <td>1.00000</td>\n",
       "      <td>1.0</td>\n",
       "    </tr>\n",
       "    <tr>\n",
       "      <th>cmp_firstname2</th>\n",
       "      <td>5749132.0</td>\n",
       "      <td>0.01623</td>\n",
       "      <td>0.12520</td>\n",
       "      <td>0.0</td>\n",
       "      <td>0.00000</td>\n",
       "      <td>0.00000</td>\n",
       "      <td>0.00000</td>\n",
       "      <td>1.0</td>\n",
       "    </tr>\n",
       "    <tr>\n",
       "      <th>cmp_lastname1</th>\n",
       "      <td>5749132.0</td>\n",
       "      <td>0.31563</td>\n",
       "      <td>0.33423</td>\n",
       "      <td>0.0</td>\n",
       "      <td>0.10000</td>\n",
       "      <td>0.18182</td>\n",
       "      <td>0.42857</td>\n",
       "      <td>1.0</td>\n",
       "    </tr>\n",
       "    <tr>\n",
       "      <th>cmp_lastname2</th>\n",
       "      <td>5749132.0</td>\n",
       "      <td>0.00014</td>\n",
       "      <td>0.01008</td>\n",
       "      <td>0.0</td>\n",
       "      <td>0.00000</td>\n",
       "      <td>0.00000</td>\n",
       "      <td>0.00000</td>\n",
       "      <td>1.0</td>\n",
       "    </tr>\n",
       "    <tr>\n",
       "      <th>cmp_sex</th>\n",
       "      <td>5749132.0</td>\n",
       "      <td>0.95500</td>\n",
       "      <td>0.20730</td>\n",
       "      <td>0.0</td>\n",
       "      <td>1.00000</td>\n",
       "      <td>1.00000</td>\n",
       "      <td>1.00000</td>\n",
       "      <td>1.0</td>\n",
       "    </tr>\n",
       "    <tr>\n",
       "      <th>cmp_birthday</th>\n",
       "      <td>5749132.0</td>\n",
       "      <td>0.22443</td>\n",
       "      <td>0.41721</td>\n",
       "      <td>0.0</td>\n",
       "      <td>0.00000</td>\n",
       "      <td>0.00000</td>\n",
       "      <td>0.00000</td>\n",
       "      <td>1.0</td>\n",
       "    </tr>\n",
       "    <tr>\n",
       "      <th>cmp_birthmonth</th>\n",
       "      <td>5749132.0</td>\n",
       "      <td>0.48879</td>\n",
       "      <td>0.49987</td>\n",
       "      <td>0.0</td>\n",
       "      <td>0.00000</td>\n",
       "      <td>0.00000</td>\n",
       "      <td>1.00000</td>\n",
       "      <td>1.0</td>\n",
       "    </tr>\n",
       "    <tr>\n",
       "      <th>cmp_birthyear</th>\n",
       "      <td>5749132.0</td>\n",
       "      <td>0.22272</td>\n",
       "      <td>0.41607</td>\n",
       "      <td>0.0</td>\n",
       "      <td>0.00000</td>\n",
       "      <td>0.00000</td>\n",
       "      <td>0.00000</td>\n",
       "      <td>1.0</td>\n",
       "    </tr>\n",
       "    <tr>\n",
       "      <th>cmp_zipcode</th>\n",
       "      <td>5749132.0</td>\n",
       "      <td>0.00552</td>\n",
       "      <td>0.07407</td>\n",
       "      <td>0.0</td>\n",
       "      <td>0.00000</td>\n",
       "      <td>0.00000</td>\n",
       "      <td>0.00000</td>\n",
       "      <td>1.0</td>\n",
       "    </tr>\n",
       "  </tbody>\n",
       "</table>\n",
       "</div>"
      ],
      "text/plain": [
       "                    count     mean      std  min      25%      50%      75%  \\\n",
       "cmp_firstname1  5749132.0  0.71278  0.38884  0.0  0.28571  1.00000  1.00000   \n",
       "cmp_firstname2  5749132.0  0.01623  0.12520  0.0  0.00000  0.00000  0.00000   \n",
       "cmp_lastname1   5749132.0  0.31563  0.33423  0.0  0.10000  0.18182  0.42857   \n",
       "cmp_lastname2   5749132.0  0.00014  0.01008  0.0  0.00000  0.00000  0.00000   \n",
       "cmp_sex         5749132.0  0.95500  0.20730  0.0  1.00000  1.00000  1.00000   \n",
       "cmp_birthday    5749132.0  0.22443  0.41721  0.0  0.00000  0.00000  0.00000   \n",
       "cmp_birthmonth  5749132.0  0.48879  0.49987  0.0  0.00000  0.00000  1.00000   \n",
       "cmp_birthyear   5749132.0  0.22272  0.41607  0.0  0.00000  0.00000  0.00000   \n",
       "cmp_zipcode     5749132.0  0.00552  0.07407  0.0  0.00000  0.00000  0.00000   \n",
       "\n",
       "                max  \n",
       "cmp_firstname1  1.0  \n",
       "cmp_firstname2  1.0  \n",
       "cmp_lastname1   1.0  \n",
       "cmp_lastname2   1.0  \n",
       "cmp_sex         1.0  \n",
       "cmp_birthday    1.0  \n",
       "cmp_birthmonth  1.0  \n",
       "cmp_birthyear   1.0  \n",
       "cmp_zipcode     1.0  "
      ]
     },
     "execution_count": 3,
     "metadata": {},
     "output_type": "execute_result"
    }
   ],
   "source": [
    "krebs_data.describe().T"
   ]
  },
  {
   "cell_type": "markdown",
   "metadata": {},
   "source": [
    "## Supervised learning\n",
    "As described before, supervised learning algorithms do need training data. Training data is data for which the true match status is known for each comparison vector. In the example in this section, we consider that the true match status of the first 5000 record pairs of the Krebs register data is known."
   ]
  },
  {
   "cell_type": "code",
   "execution_count": 4,
   "metadata": {},
   "outputs": [],
   "source": [
    "golden_pairs = krebs_data[0:5000]\n",
    "golden_matches_index = golden_pairs.index & krebs_match # 2093 matching pairs"
   ]
  },
  {
   "cell_type": "markdown",
   "metadata": {},
   "source": [
    "### Logistic regression\n",
    "The ``recordlinkage.LogisticRegressionClassifier`` classifier is an application of the logistic regression model. This supervised learning method is one of the oldest classification algorithms used in record linkage. In situations with enough training data, the algorithm gives relatively good results."
   ]
  },
  {
   "cell_type": "code",
   "execution_count": 5,
   "metadata": {},
   "outputs": [
    {
     "name": "stdout",
     "output_type": "stream",
     "text": [
      "Intercept:  -6.2980435710064135\n",
      "Coefficients:  [  4.90452843e-01   1.21640484e-01   2.15040485e+00  -2.84818101e-03\n",
      "  -1.79712465e+00   9.61085558e-01   6.72610441e-02   1.03408608e+00\n",
      "   4.30556110e+00]\n"
     ]
    }
   ],
   "source": [
    "# Initialize the classifier\n",
    "logreg = rl.LogisticRegressionClassifier()\n",
    "\n",
    "# Train the classifier\n",
    "logreg.learn(golden_pairs, golden_matches_index)\n",
    "print (\"Intercept: \", logreg.intercept)\n",
    "print (\"Coefficients: \", logreg.coefficients)"
   ]
  },
  {
   "cell_type": "code",
   "execution_count": 6,
   "metadata": {},
   "outputs": [
    {
     "data": {
      "text/plain": [
       "20150"
      ]
     },
     "execution_count": 6,
     "metadata": {},
     "output_type": "execute_result"
    }
   ],
   "source": [
    "# Predict the match status for all record pairs\n",
    "result_logreg = logreg.predict(krebs_data)\n",
    "\n",
    "len(result_logreg)"
   ]
  },
  {
   "cell_type": "code",
   "execution_count": 7,
   "metadata": {},
   "outputs": [
    {
     "data": {
      "text/plain": [
       "array([[  19884,    1047],\n",
       "       [    266, 5727935]])"
      ]
     },
     "execution_count": 7,
     "metadata": {},
     "output_type": "execute_result"
    }
   ],
   "source": [
    "conf_logreg = rl.confusion_matrix(krebs_match, result_logreg, len(krebs_data))\n",
    "conf_logreg"
   ]
  },
  {
   "cell_type": "code",
   "execution_count": 8,
   "metadata": {},
   "outputs": [
    {
     "data": {
      "text/plain": [
       "0.96804"
      ]
     },
     "execution_count": 8,
     "metadata": {},
     "output_type": "execute_result"
    }
   ],
   "source": [
    "# The F-score for this prediction is\n",
    "rl.fscore(conf_logreg)"
   ]
  },
  {
   "cell_type": "markdown",
   "metadata": {},
   "source": [
    "The predicted number of matches is not much more than the 20931 true matches. The result was achieved with a small training dataset of 5000 record pairs."
   ]
  },
  {
   "cell_type": "markdown",
   "metadata": {},
   "source": [
    "In (older) literature, record linkage procedures are often divided in **deterministic record linkage** and **probabilistic record linkage**. The Logistic Regression Classifier belongs to deterministic record linkage methods. Each feature/variable has a certain importance (named weight). The weight is multiplied with the comparison/similarity vector. If the total sum exceeds a certain threshold, it as considered to be a match. "
   ]
  },
  {
   "cell_type": "code",
   "execution_count": 9,
   "metadata": {},
   "outputs": [
    {
     "name": "stdout",
     "output_type": "stream",
     "text": [
      "21303\n"
     ]
    }
   ],
   "source": [
    "intercept = -9\n",
    "coefficients = [2.0, 1.0, 3.0, 1.0, 1.0, 1.0, 1.0, 2.0, 3.0]\n",
    "\n",
    "logreg = rl.LogisticRegressionClassifier(coefficients, intercept)\n",
    "\n",
    "# predict without calling LogisticRegressionClassifier.learn\n",
    "matches = logreg.predict(krebs_data)\n",
    "print (len(matches))"
   ]
  },
  {
   "cell_type": "code",
   "execution_count": 10,
   "metadata": {},
   "outputs": [
    {
     "data": {
      "text/plain": [
       "0.98769"
      ]
     },
     "execution_count": 10,
     "metadata": {},
     "output_type": "execute_result"
    }
   ],
   "source": [
    "conf_logreg = rl.confusion_matrix(krebs_match, matches, len(krebs_data))\n",
    "conf_logreg\n",
    "\n",
    "# The F-score for this classification is\n",
    "rl.fscore(conf_logreg)"
   ]
  },
  {
   "cell_type": "markdown",
   "metadata": {},
   "source": [
    "For the given coefficients, the F-score is better than the situation without trainings data. Surprising? No (use more trainings data and the result will improve)"
   ]
  },
  {
   "cell_type": "markdown",
   "metadata": {},
   "source": [
    "### Naive Bayes\n",
    "In contrast to the logistic regression classifier, the Naive Bayes classifier is a probabilistic classifier. The probabilistic record linkage framework by Fellegi and Sunter (1969) is the most well-known probabilistic classification method for record linkage. Later, it was proved that the Fellegi and Sunter method is mathematically equivalent to the Naive Bayes method in case of assuming independence between comparison variables."
   ]
  },
  {
   "cell_type": "code",
   "execution_count": 11,
   "metadata": {},
   "outputs": [
    {
     "data": {
      "text/plain": [
       "20345"
      ]
     },
     "execution_count": 11,
     "metadata": {},
     "output_type": "execute_result"
    }
   ],
   "source": [
    "# Train the classifier\n",
    "nb = rl.NaiveBayesClassifier()\n",
    "nb.learn(golden_pairs, golden_matches_index)\n",
    "\n",
    "# Predict the match status for all record pairs\n",
    "result_nb = nb.predict(krebs_data)\n",
    "\n",
    "len(result_nb)"
   ]
  },
  {
   "cell_type": "code",
   "execution_count": 12,
   "metadata": {},
   "outputs": [
    {
     "data": {
      "text/plain": [
       "array([[  20023,     908],\n",
       "       [    322, 5727879]])"
      ]
     },
     "execution_count": 12,
     "metadata": {},
     "output_type": "execute_result"
    }
   ],
   "source": [
    "conf_nb = rl.confusion_matrix(krebs_match, result_nb, len(krebs_data))\n",
    "conf_nb"
   ]
  },
  {
   "cell_type": "code",
   "execution_count": 13,
   "metadata": {},
   "outputs": [
    {
     "data": {
      "text/plain": [
       "0.97020"
      ]
     },
     "execution_count": 13,
     "metadata": {},
     "output_type": "execute_result"
    }
   ],
   "source": [
    "# The F-score for this classification is\n",
    "rl.fscore(conf_nb)"
   ]
  },
  {
   "cell_type": "markdown",
   "metadata": {},
   "source": [
    "### Support Vector Machines\n",
    "\n",
    "Support Vector Machines (SVM) have become increasingly popular in record linkage. The algorithm performs well there is only a small amount of training data available. The implementation of SVM in the Python Record Linkage Toolkit is a linear SVM algorithm. "
   ]
  },
  {
   "cell_type": "code",
   "execution_count": 14,
   "metadata": {},
   "outputs": [
    {
     "data": {
      "text/plain": [
       "20839"
      ]
     },
     "execution_count": 14,
     "metadata": {},
     "output_type": "execute_result"
    }
   ],
   "source": [
    "# Train the classifier\n",
    "svm = rl.SVMClassifier()\n",
    "svm.learn(golden_pairs, golden_matches_index)\n",
    "\n",
    "# Predict the match status for all record pairs\n",
    "result_svm = svm.predict(krebs_data)\n",
    "\n",
    "len(result_svm)"
   ]
  },
  {
   "cell_type": "code",
   "execution_count": 15,
   "metadata": {},
   "outputs": [
    {
     "data": {
      "text/plain": [
       "array([[  20825,     106],\n",
       "       [     14, 5728187]])"
      ]
     },
     "execution_count": 15,
     "metadata": {},
     "output_type": "execute_result"
    }
   ],
   "source": [
    "conf_svm = rl.confusion_matrix(krebs_match, result_svm, len(krebs_data))\n",
    "conf_svm"
   ]
  },
  {
   "cell_type": "code",
   "execution_count": 16,
   "metadata": {},
   "outputs": [
    {
     "data": {
      "text/plain": [
       "0.99713"
      ]
     },
     "execution_count": 16,
     "metadata": {},
     "output_type": "execute_result"
    }
   ],
   "source": [
    "# The F-score for this classification is\n",
    "rl.fscore(conf_svm)"
   ]
  },
  {
   "cell_type": "markdown",
   "metadata": {},
   "source": [
    "## Unsupervised learning\n",
    "In situations without training data, unsupervised learning can be a solution for record linkage problems. In this section, we discuss two unsupervised learning methods. One algorithm is K-means clustering, and the other algorithm is an implementation of the Expectation-Maximisation algorithm. Most of the time, unsupervised learning algorithms take more computational time because of the iterative structure in these algorithms."
   ]
  },
  {
   "cell_type": "markdown",
   "metadata": {},
   "source": [
    "### K-means clustering\n",
    "\n",
    "The K-means clustering algorithm is well-known and widely used in big data analysis. The K-means classifier in the Python Record Linkage Toolkit package is configured in such a way that it can be used for linking records. For more info about the K-means clustering see [Wikipedia](https://en.wikipedia.org/wiki/K-means_clustering). "
   ]
  },
  {
   "cell_type": "code",
   "execution_count": 17,
   "metadata": {},
   "outputs": [
    {
     "data": {
      "text/plain": [
       "371525"
      ]
     },
     "execution_count": 17,
     "metadata": {},
     "output_type": "execute_result"
    }
   ],
   "source": [
    "kmeans = rl.KMeansClassifier()\n",
    "result_kmeans = kmeans.learn(krebs_data)\n",
    "\n",
    "# The predicted number of matches\n",
    "len(result_kmeans)"
   ]
  },
  {
   "cell_type": "markdown",
   "metadata": {},
   "source": [
    "The classifier is now trained and the comparison vectors are classified. "
   ]
  },
  {
   "cell_type": "code",
   "execution_count": 18,
   "metadata": {},
   "outputs": [
    {
     "data": {
      "text/plain": [
       "0.10598"
      ]
     },
     "execution_count": 18,
     "metadata": {},
     "output_type": "execute_result"
    }
   ],
   "source": [
    "cm_kmeans = rl.confusion_matrix(krebs_match, result_kmeans, len(krebs_data))\n",
    "\n",
    "rl.fscore(cm_kmeans)"
   ]
  },
  {
   "cell_type": "markdown",
   "metadata": {},
   "source": [
    "### Expectation/Conditional Maximization Algorithm\n",
    "The ECM-algorithm is an Expectation-Maximisation algorithm with some additional constraints. This algorithm is closely related to the Naive Bayes algorithm. The ECM algorithm is also closely related to estimating the parameters in the Fellegi and Sunter (1969) framework. The algorithms assume that the attributes are independent of each other. The Naive Bayes algorithm uses the same principles."
   ]
  },
  {
   "cell_type": "code",
   "execution_count": 19,
   "metadata": {},
   "outputs": [
    {
     "data": {
      "text/plain": [
       "19817"
      ]
     },
     "execution_count": 19,
     "metadata": {},
     "output_type": "execute_result"
    }
   ],
   "source": [
    "# Train the classifier\n",
    "ecm = rl.ECMClassifier()\n",
    "result_ecm = ecm.learn((krebs_data > 0.8).astype(int))\n",
    "\n",
    "len(result_ecm)"
   ]
  },
  {
   "cell_type": "code",
   "execution_count": 20,
   "metadata": {},
   "outputs": [
    {
     "data": {
      "text/plain": [
       "array([[  19813,    1118],\n",
       "       [      4, 5728197]])"
      ]
     },
     "execution_count": 20,
     "metadata": {},
     "output_type": "execute_result"
    }
   ],
   "source": [
    "conf_ecm = rl.confusion_matrix(krebs_match, result_ecm, len(krebs_data))\n",
    "conf_ecm"
   ]
  },
  {
   "cell_type": "code",
   "execution_count": 21,
   "metadata": {},
   "outputs": [
    {
     "data": {
      "text/plain": [
       "0.97246"
      ]
     },
     "execution_count": 21,
     "metadata": {},
     "output_type": "execute_result"
    }
   ],
   "source": [
    "# The F-score for this classification is\n",
    "rl.fscore(conf_ecm)"
   ]
  }
 ],
 "metadata": {
  "kernelspec": {
   "display_name": "Anaconda Python 3",
   "language": "python",
   "name": "python3"
  },
  "language_info": {
   "codemirror_mode": {
    "name": "ipython",
    "version": 3
   },
   "file_extension": ".py",
   "mimetype": "text/x-python",
   "name": "python",
   "nbconvert_exporter": "python",
   "pygments_lexer": "ipython3",
   "version": "3.5.2"
  }
 },
 "nbformat": 4,
 "nbformat_minor": 1
}
