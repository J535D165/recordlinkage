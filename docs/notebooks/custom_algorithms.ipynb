{
 "cells": [
  {
   "cell_type": "markdown",
   "metadata": {},
   "source": [
    "# Custom algorithms\n",
    "\n",
    "The Python Record Linkage Toolkit contains several built-in algorithms for making record pairs and comparing record pairs. Sometimes, these built-in algorithms do not fit your needs. With the Python Record Linkage Toolkit, it is easy to use other algorithms. This section describes how to implement custom algorithms for the making and comparing record pairs. When you think your algorithm might help others, consider sharing it!\n"
   ]
  },
  {
   "cell_type": "code",
   "execution_count": 1,
   "metadata": {
    "collapsed": true,
    "hide_input": false,
    "nbsphinx": "hidden"
   },
   "outputs": [],
   "source": [
    "%precision 5\n",
    "\n",
    "from __future__ import print_function\n",
    "\n",
    "import pandas\n",
    "pandas.set_option('precision',5)\n",
    "pandas.options.display.max_rows = 10\n"
   ]
  },
  {
   "cell_type": "markdown",
   "metadata": {},
   "source": [
    "For run the examples below, import *pandas*, *recordlinkage* and the two datasets belonging to sample dataset [FEBRL4](../ref-datasets.html#recordlinkage.datasets.load_febrl4). "
   ]
  },
  {
   "cell_type": "code",
   "execution_count": 2,
   "metadata": {},
   "outputs": [],
   "source": [
    "import pandas\n",
    "\n",
    "import recordlinkage\n",
    "from recordlinkage.datasets import load_febrl4\n",
    "\n",
    "df_a, df_b = load_febrl4()"
   ]
  },
  {
   "cell_type": "code",
   "execution_count": 3,
   "metadata": {},
   "outputs": [
    {
     "data": {
      "text/html": [
       "<div>\n",
       "<style>\n",
       "    .dataframe thead tr:only-child th {\n",
       "        text-align: right;\n",
       "    }\n",
       "\n",
       "    .dataframe thead th {\n",
       "        text-align: left;\n",
       "    }\n",
       "\n",
       "    .dataframe tbody tr th {\n",
       "        vertical-align: top;\n",
       "    }\n",
       "</style>\n",
       "<table border=\"1\" class=\"dataframe\">\n",
       "  <thead>\n",
       "    <tr style=\"text-align: right;\">\n",
       "      <th></th>\n",
       "      <th>given_name</th>\n",
       "      <th>surname</th>\n",
       "      <th>street_number</th>\n",
       "      <th>address_1</th>\n",
       "      <th>address_2</th>\n",
       "      <th>suburb</th>\n",
       "      <th>postcode</th>\n",
       "      <th>state</th>\n",
       "      <th>date_of_birth</th>\n",
       "      <th>soc_sec_id</th>\n",
       "    </tr>\n",
       "    <tr>\n",
       "      <th>rec_id</th>\n",
       "      <th></th>\n",
       "      <th></th>\n",
       "      <th></th>\n",
       "      <th></th>\n",
       "      <th></th>\n",
       "      <th></th>\n",
       "      <th></th>\n",
       "      <th></th>\n",
       "      <th></th>\n",
       "      <th></th>\n",
       "    </tr>\n",
       "  </thead>\n",
       "  <tbody>\n",
       "    <tr>\n",
       "      <th>rec-1070-org</th>\n",
       "      <td>michaela</td>\n",
       "      <td>neumann</td>\n",
       "      <td>8</td>\n",
       "      <td>stanley street</td>\n",
       "      <td>miami</td>\n",
       "      <td>winston hills</td>\n",
       "      <td>4223</td>\n",
       "      <td>nsw</td>\n",
       "      <td>19151111</td>\n",
       "      <td>5304218</td>\n",
       "    </tr>\n",
       "    <tr>\n",
       "      <th>rec-1016-org</th>\n",
       "      <td>courtney</td>\n",
       "      <td>painter</td>\n",
       "      <td>12</td>\n",
       "      <td>pinkerton circuit</td>\n",
       "      <td>bega flats</td>\n",
       "      <td>richlands</td>\n",
       "      <td>4560</td>\n",
       "      <td>vic</td>\n",
       "      <td>19161214</td>\n",
       "      <td>4066625</td>\n",
       "    </tr>\n",
       "    <tr>\n",
       "      <th>rec-4405-org</th>\n",
       "      <td>charles</td>\n",
       "      <td>green</td>\n",
       "      <td>38</td>\n",
       "      <td>salkauskas crescent</td>\n",
       "      <td>kela</td>\n",
       "      <td>dapto</td>\n",
       "      <td>4566</td>\n",
       "      <td>nsw</td>\n",
       "      <td>19480930</td>\n",
       "      <td>4365168</td>\n",
       "    </tr>\n",
       "    <tr>\n",
       "      <th>rec-1288-org</th>\n",
       "      <td>vanessa</td>\n",
       "      <td>parr</td>\n",
       "      <td>905</td>\n",
       "      <td>macquoid place</td>\n",
       "      <td>broadbridge manor</td>\n",
       "      <td>south grafton</td>\n",
       "      <td>2135</td>\n",
       "      <td>sa</td>\n",
       "      <td>19951119</td>\n",
       "      <td>9239102</td>\n",
       "    </tr>\n",
       "    <tr>\n",
       "      <th>rec-3585-org</th>\n",
       "      <td>mikayla</td>\n",
       "      <td>malloney</td>\n",
       "      <td>37</td>\n",
       "      <td>randwick road</td>\n",
       "      <td>avalind</td>\n",
       "      <td>hoppers crossing</td>\n",
       "      <td>4552</td>\n",
       "      <td>vic</td>\n",
       "      <td>19860208</td>\n",
       "      <td>7207688</td>\n",
       "    </tr>\n",
       "    <tr>\n",
       "      <th>...</th>\n",
       "      <td>...</td>\n",
       "      <td>...</td>\n",
       "      <td>...</td>\n",
       "      <td>...</td>\n",
       "      <td>...</td>\n",
       "      <td>...</td>\n",
       "      <td>...</td>\n",
       "      <td>...</td>\n",
       "      <td>...</td>\n",
       "      <td>...</td>\n",
       "    </tr>\n",
       "    <tr>\n",
       "      <th>rec-2153-org</th>\n",
       "      <td>annabel</td>\n",
       "      <td>grierson</td>\n",
       "      <td>97</td>\n",
       "      <td>mclachlan crescent</td>\n",
       "      <td>lantana lodge</td>\n",
       "      <td>broome</td>\n",
       "      <td>2480</td>\n",
       "      <td>nsw</td>\n",
       "      <td>19840224</td>\n",
       "      <td>7676186</td>\n",
       "    </tr>\n",
       "    <tr>\n",
       "      <th>rec-1604-org</th>\n",
       "      <td>sienna</td>\n",
       "      <td>musolino</td>\n",
       "      <td>22</td>\n",
       "      <td>smeaton circuit</td>\n",
       "      <td>pangani</td>\n",
       "      <td>mckinnon</td>\n",
       "      <td>2700</td>\n",
       "      <td>nsw</td>\n",
       "      <td>19890525</td>\n",
       "      <td>4971506</td>\n",
       "    </tr>\n",
       "    <tr>\n",
       "      <th>rec-1003-org</th>\n",
       "      <td>bradley</td>\n",
       "      <td>matthews</td>\n",
       "      <td>2</td>\n",
       "      <td>jondol place</td>\n",
       "      <td>horseshoe ck</td>\n",
       "      <td>jacobs well</td>\n",
       "      <td>7018</td>\n",
       "      <td>sa</td>\n",
       "      <td>19481122</td>\n",
       "      <td>8927667</td>\n",
       "    </tr>\n",
       "    <tr>\n",
       "      <th>rec-4883-org</th>\n",
       "      <td>brodee</td>\n",
       "      <td>egan</td>\n",
       "      <td>88</td>\n",
       "      <td>axon street</td>\n",
       "      <td>greenslopes</td>\n",
       "      <td>wamberal</td>\n",
       "      <td>2067</td>\n",
       "      <td>qld</td>\n",
       "      <td>19121113</td>\n",
       "      <td>6039042</td>\n",
       "    </tr>\n",
       "    <tr>\n",
       "      <th>rec-66-org</th>\n",
       "      <td>koula</td>\n",
       "      <td>houweling</td>\n",
       "      <td>3</td>\n",
       "      <td>mileham street</td>\n",
       "      <td>old airdmillan road</td>\n",
       "      <td>williamstown</td>\n",
       "      <td>2350</td>\n",
       "      <td>nsw</td>\n",
       "      <td>19440718</td>\n",
       "      <td>6375537</td>\n",
       "    </tr>\n",
       "  </tbody>\n",
       "</table>\n",
       "<p>5000 rows × 10 columns</p>\n",
       "</div>"
      ],
      "text/plain": [
       "             given_name    surname street_number            address_1  \\\n",
       "rec_id                                                                  \n",
       "rec-1070-org   michaela    neumann             8       stanley street   \n",
       "rec-1016-org   courtney    painter            12    pinkerton circuit   \n",
       "rec-4405-org    charles      green            38  salkauskas crescent   \n",
       "rec-1288-org    vanessa       parr           905       macquoid place   \n",
       "rec-3585-org    mikayla   malloney            37        randwick road   \n",
       "...                 ...        ...           ...                  ...   \n",
       "rec-2153-org    annabel   grierson            97   mclachlan crescent   \n",
       "rec-1604-org     sienna   musolino            22      smeaton circuit   \n",
       "rec-1003-org    bradley   matthews             2         jondol place   \n",
       "rec-4883-org     brodee       egan            88          axon street   \n",
       "rec-66-org        koula  houweling             3       mileham street   \n",
       "\n",
       "                        address_2            suburb postcode state  \\\n",
       "rec_id                                                               \n",
       "rec-1070-org                miami     winston hills     4223   nsw   \n",
       "rec-1016-org           bega flats         richlands     4560   vic   \n",
       "rec-4405-org                 kela             dapto     4566   nsw   \n",
       "rec-1288-org    broadbridge manor     south grafton     2135    sa   \n",
       "rec-3585-org              avalind  hoppers crossing     4552   vic   \n",
       "...                           ...               ...      ...   ...   \n",
       "rec-2153-org        lantana lodge            broome     2480   nsw   \n",
       "rec-1604-org              pangani          mckinnon     2700   nsw   \n",
       "rec-1003-org         horseshoe ck       jacobs well     7018    sa   \n",
       "rec-4883-org          greenslopes          wamberal     2067   qld   \n",
       "rec-66-org    old airdmillan road      williamstown     2350   nsw   \n",
       "\n",
       "             date_of_birth soc_sec_id  \n",
       "rec_id                                 \n",
       "rec-1070-org      19151111    5304218  \n",
       "rec-1016-org      19161214    4066625  \n",
       "rec-4405-org      19480930    4365168  \n",
       "rec-1288-org      19951119    9239102  \n",
       "rec-3585-org      19860208    7207688  \n",
       "...                    ...        ...  \n",
       "rec-2153-org      19840224    7676186  \n",
       "rec-1604-org      19890525    4971506  \n",
       "rec-1003-org      19481122    8927667  \n",
       "rec-4883-org      19121113    6039042  \n",
       "rec-66-org        19440718    6375537  \n",
       "\n",
       "[5000 rows x 10 columns]"
      ]
     },
     "execution_count": 3,
     "metadata": {},
     "output_type": "execute_result"
    }
   ],
   "source": [
    "df_a"
   ]
  },
  {
   "cell_type": "markdown",
   "metadata": {},
   "source": [
    "## Custom index algorithms\n",
    "The Python Record Linkage Toolkit contains multiple algorithms to pair records (index algorithms) such as [full indexing](../ref-index.html#recordlinkage.indexing.FullIndex), [blocking](../ref-index.html#recordlinkage.indexing.BlockIndex) and [sorted neighbourhood indexing](../ref-index.html#recordlinkage.indexing.SortedNeighbourhoodIndex). This section explains how to make and implement a custom algorithm to make record pairs. \n",
    "\n",
    "To create a custom algorithm, you have to make a subclass of the ``recordlinkage.base.BaseIndexAlgorithm``. In your subclass, you overwrite the ``_link_index`` method. This method accepts two pandas DataFrames as arguments. Based on these DataFrames, your method must create pairs and return them as a ``pandas.MultiIndex`` in which the MultiIndex names are the index names of DataFrame A and DataFrame B respectively. \n",
    "\n",
    "The algorithm for linking data frames can be used for finding duplicates as well. In this situation, DataFrame B is a copy of DataFrame A. The ``Pairs`` class removes pairs like ``(record_i, record_i)`` and one of the following ``(record_i, record_j) (record_j, record_i)`` under the hood. As result of this, only unique combinations are returned. If you do have a specific algorithm for finding duplicates, then you can overwrite the ``_dedup_index`` method. This method accepts only one argument (DataFrame A) and the internal base class does not look for combinations like explained above. \n",
    "\n",
    "Let's make an algorithm that pairs records of which the given name in both records starts with the letter 'W'. "
   ]
  },
  {
   "cell_type": "code",
   "execution_count": 4,
   "metadata": {
    "collapsed": true
   },
   "outputs": [],
   "source": [
    "from recordlinkage.base import BaseIndexAlgorithm\n",
    "\n",
    "class FirstLetterWIndex(BaseIndexAlgorithm):\n",
    "    \"\"\"Custom class for indexing\"\"\"\n",
    "    \n",
    "    def _link_index(self, df_a, df_b):\n",
    "        \"\"\"Make pairs of all records where the given name start with the letter 'W'.\"\"\"\n",
    "\n",
    "        # Select records with names starting with a w.\n",
    "        name_a_startswith_w = df_a[df_a['given_name'].str.startswith('w') == True]\n",
    "        name_b_startswith_w = df_b[df_b['given_name'].str.startswith('w') == True]\n",
    "\n",
    "        # Make a product of the two numpy arrays\n",
    "        return pandas.MultiIndex.from_product(\n",
    "            [name_a_startswith_w.index.values, name_b_startswith_w.index.values],\n",
    "            names=[df_a.index.name, df_b.index.name]\n",
    "        )"
   ]
  },
  {
   "cell_type": "code",
   "execution_count": 5,
   "metadata": {
    "scrolled": false
   },
   "outputs": [
    {
     "name": "stdout",
     "output_type": "stream",
     "text": [
      "Returns a MultiIndex\n",
      "Number of candidate record pairs starting with the letter w: 6072\n"
     ]
    }
   ],
   "source": [
    "indexer = FirstLetterWIndex()\n",
    "candidate_pairs = indexer.index(df_a, df_b)\n",
    "\n",
    "print ('Returns a', type(candidate_pairs).__name__)\n",
    "print ('Number of candidate record pairs starting with the letter w:', len(candidate_pairs))"
   ]
  },
  {
   "cell_type": "markdown",
   "metadata": {},
   "source": [
    "The custom index class below does not restrict the first letter to 'w', but the first letter is an argument (named ``letter``). This letter can is initialized during the setup of the class."
   ]
  },
  {
   "cell_type": "code",
   "execution_count": 6,
   "metadata": {
    "collapsed": true
   },
   "outputs": [],
   "source": [
    "class FirstLetterIndex(BaseIndexAlgorithm):\n",
    "    \"\"\"Custom class for indexing\"\"\"\n",
    "    \n",
    "    def __init__(self, letter):\n",
    "        super(FirstLetterIndex, self).__init__()\n",
    "\n",
    "        # the letter to save\n",
    "        self.letter = letter\n",
    "        \n",
    "    def _link_index(self, df_a, df_b):\n",
    "        \"\"\"Make record pairs that agree on the first letter of the given name.\"\"\"\n",
    "\n",
    "        # Select records with names starting with a 'letter'.\n",
    "        a_startswith_w = df_a[df_a['given_name'].str.startswith(self.letter) == True]\n",
    "        b_startswith_w = df_b[df_b['given_name'].str.startswith(self.letter) == True]\n",
    "\n",
    "        # Make a product of the two numpy arrays\n",
    "        return pandas.MultiIndex.from_product(\n",
    "            [a_startswith_w.index.values, b_startswith_w.index.values],\n",
    "            names=[df_a.index.name, df_b.index.name]\n",
    "        )"
   ]
  },
  {
   "cell_type": "code",
   "execution_count": 7,
   "metadata": {},
   "outputs": [
    {
     "name": "stdout",
     "output_type": "stream",
     "text": [
      "Number of record pairs (letter w): 6072\n"
     ]
    }
   ],
   "source": [
    "indexer = FirstLetterIndex('w')\n",
    "candidate_pairs = indexer.index(df_a, df_b)\n",
    "\n",
    "print ('Number of record pairs (letter w):', len(candidate_pairs))"
   ]
  },
  {
   "cell_type": "code",
   "execution_count": 8,
   "metadata": {},
   "outputs": [
    {
     "name": "stdout",
     "output_type": "stream",
     "text": [
      "Number of record pairs (letter w): 6072\n",
      "Number of record pairs (letter x): 132\n",
      "Number of record pairs (letter a): 172431\n"
     ]
    }
   ],
   "source": [
    "for letter in 'wxa':\n",
    "    \n",
    "    indexer = FirstLetterIndex(letter)\n",
    "    candidate_pairs = indexer.index(df_a, df_b)\n",
    "\n",
    "    print ('Number of record pairs (letter %s):' % letter, len(candidate_pairs))"
   ]
  },
  {
   "cell_type": "markdown",
   "metadata": {},
   "source": [
    "## Custom compare algorithms\n",
    "\n",
    "The Python Record Linkage Toolkit holds algorithms to compare strings, numeric values and dates. These functions may not be sufficient for your record linkage. The internal framework of the toolkit makes it easy to implement custom algorithms to compare records. A custom function can be passed to the ``compare_vectorized`` method (see example below). \n",
    "\n",
    "A custom algorithm is a function that accepts at least two arguments. The first argument is a ``pandas.Series`` with information on the variable in the first file and the second argument is a ``pandas.Series`` with information on the variable in the second file. The custom function has to return a ``pandas.Series``, ``numpy.array`` or list with the similarity/comparison values. \n",
    "\n",
    "The following code is a custom function to compare zipcodes. The function returns 1.0 for record pairs that agree on the zipcode and returns 0.0 for records that disagree on the zipcode. If the zipcodes disagree but the first two numbers are identical, then the function returns 0.5."
   ]
  },
  {
   "cell_type": "code",
   "execution_count": 9,
   "metadata": {
    "collapsed": true
   },
   "outputs": [],
   "source": [
    "def compare_zipcodes(s1, s2):\n",
    "    \"\"\"\n",
    "    If the zipcodes in both records are identical, the similarity \n",
    "    is 0. If the first two values agree and the last two don't, then \n",
    "    the similarity is 0.5. Otherwise, the similarity is 0.\n",
    "    \"\"\"\n",
    "\n",
    "    # check if the zipcode are identical (return 1 or 0)\n",
    "    sim = (s1 == s2).astype(float)\n",
    "\n",
    "    # check the first 2 numbers of the distinct comparisons\n",
    "    sim[(sim == 0) & (s1.str[0:2] == s2.str[0:2])] = 0.5\n",
    "    \n",
    "    return sim"
   ]
  },
  {
   "cell_type": "code",
   "execution_count": 10,
   "metadata": {},
   "outputs": [
    {
     "data": {
      "text/plain": [
       "0.0    71229\n",
       "0.5     3166\n",
       "1.0     2854\n",
       "Name: sim_postcode, dtype: int64"
      ]
     },
     "execution_count": 10,
     "metadata": {},
     "output_type": "execute_result"
    }
   ],
   "source": [
    "# Make an index of record pairs\n",
    "pcl = recordlinkage.index.Block('given_name')\n",
    "candidate_pairs = pcl.index(df_a, df_b)\n",
    "\n",
    "comparer = recordlinkage.Compare()\n",
    "comparer.compare_vectorized(compare_zipcodes, 'postcode', 'postcode', label='sim_postcode')\n",
    "features = comparer.compute(candidate_pairs, df_a, df_b)\n",
    "\n",
    "features['sim_postcode'].value_counts()"
   ]
  },
  {
   "cell_type": "markdown",
   "metadata": {},
   "source": [
    "As you can see, one can pass the labels of the columns as arguments. The first argument is a column label, or a list of column labels, found in the first DataFrame (``postcode`` in this example). The second argument is a column label, or a list of column labels, found in the second DataFrame (also ``postcode`` in this example). The ``recordlinkage.Compare`` class selects the columns with the given labels before passing them to the custom algorithm/function. The ``compare`` method in the ``recordlinkage.Compare`` class passes additional (keyword) arguments to the custom function. \n",
    "\n",
    "**Warning:** Do not change the order of the pairs in the MultiIndex."
   ]
  },
  {
   "cell_type": "markdown",
   "metadata": {},
   "source": [
    "### Multicolumn comparisons\n",
    "The Python Record Linkage Toolkit supports the comparison of more than two columns. This is especially useful in situations with multi-dimensional data (for example geographical coordinates) and situations where fields can be swapped. \n",
    "\n",
    "The FEBRL4 dataset has two columns filled with address information (``address_1`` and ``address_2``). In a naive approach, one compares ``address_1`` of file A with ``address_1`` of file B and ``address_2`` of file A with ``address_2`` of file B. If the values for ``address_1`` and ``address_2`` are swapped during the record generating process, the naive approach considers the addresses to be distinct. In a more advanced approach, ``address_1`` of file A is compared with ``address_1`` and ``address_2`` of file B. Variable ``address_2`` of file A is compared with ``address_1`` and ``address_2`` of file B. This is done with the single function given below."
   ]
  },
  {
   "cell_type": "code",
   "execution_count": 11,
   "metadata": {
    "collapsed": true
   },
   "outputs": [],
   "source": [
    "def compare_addresses(s1_1, s1_2, s2_1, s2_2):\n",
    "    \"\"\"\n",
    "    Compare addresses. Compare address_1 of file A with \n",
    "    address_1 and address_2 of file B. The same for address_2\n",
    "    of dataset 1. \n",
    "    \n",
    "    \"\"\"\n",
    "    \n",
    "    return ((s1_1 == s2_1) | (s1_2 == s2_2) | (s1_1 == s2_2) | (s1_2 == s2_1)).astype(float)"
   ]
  },
  {
   "cell_type": "code",
   "execution_count": 12,
   "metadata": {},
   "outputs": [
    {
     "data": {
      "text/plain": [
       "sim_address_1    0.02488\n",
       "sim_address_2    0.02025\n",
       "sim_address      0.03566\n",
       "dtype: float64"
      ]
     },
     "execution_count": 12,
     "metadata": {},
     "output_type": "execute_result"
    }
   ],
   "source": [
    "comparer = recordlinkage.Compare()\n",
    "\n",
    "# naive\n",
    "comparer.exact('address_1', 'address_1', label='sim_address_1')\n",
    "comparer.exact('address_2', 'address_2', label='sim_address_2')\n",
    "\n",
    "# better\n",
    "comparer.compare_vectorized(\n",
    "    compare_addresses, \n",
    "    ('address_1', 'address_2'), ('address_1', 'address_2'), \n",
    "    label='sim_address'\n",
    ")\n",
    "\n",
    "features = comparer.compute(candidate_pairs, df_a, df_b)\n",
    "\n",
    "features.mean()"
   ]
  }
 ],
 "metadata": {
  "anaconda-cloud": {},
  "kernelspec": {
   "display_name": "recordlinkage-dev (python3)",
   "language": "python",
   "name": "recordlinkage-dev"
  },
  "language_info": {
   "codemirror_mode": {
    "name": "ipython",
    "version": 3
   },
   "file_extension": ".py",
   "mimetype": "text/x-python",
   "name": "python",
   "nbconvert_exporter": "python",
   "pygments_lexer": "ipython3",
   "version": "3.6.2"
  }
 },
 "nbformat": 4,
 "nbformat_minor": 1
}
